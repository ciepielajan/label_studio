{
 "cells": [
  {
   "cell_type": "code",
   "execution_count": 6,
   "metadata": {},
   "outputs": [],
   "source": [
    "import pandas as pd"
   ]
  },
  {
   "cell_type": "code",
   "execution_count": 7,
   "metadata": {},
   "outputs": [
    {
     "data": {
      "text/html": [
       "<div>\n",
       "<style scoped>\n",
       "    .dataframe tbody tr th:only-of-type {\n",
       "        vertical-align: middle;\n",
       "    }\n",
       "\n",
       "    .dataframe tbody tr th {\n",
       "        vertical-align: top;\n",
       "    }\n",
       "\n",
       "    .dataframe thead th {\n",
       "        text-align: right;\n",
       "    }\n",
       "</style>\n",
       "<table border=\"1\" class=\"dataframe\">\n",
       "  <thead>\n",
       "    <tr style=\"text-align: right;\">\n",
       "      <th></th>\n",
       "      <th>image</th>\n",
       "      <th>id</th>\n",
       "      <th>label</th>\n",
       "      <th>annotator</th>\n",
       "      <th>annotation_id</th>\n",
       "      <th>created_at</th>\n",
       "      <th>updated_at</th>\n",
       "      <th>lead_time</th>\n",
       "      <th>filename</th>\n",
       "      <th>cnt_label</th>\n",
       "    </tr>\n",
       "  </thead>\n",
       "  <tbody>\n",
       "    <tr>\n",
       "      <th>0</th>\n",
       "      <td>/data/local-files/?d=ml-prodigy-test/data/imag...</td>\n",
       "      <td>4061</td>\n",
       "      <td>Tytuł dokumentu,Nazwa placówki,Inny box,Inny b...</td>\n",
       "      <td>1</td>\n",
       "      <td>620</td>\n",
       "      <td>2022-07-30 10:08:00.994965+00:00</td>\n",
       "      <td>2022-07-30 10:08:00.994986+00:00</td>\n",
       "      <td>51.197</td>\n",
       "      <td>355728_medicalCertificateConfirmingTheCompleti...</td>\n",
       "      <td>7</td>\n",
       "    </tr>\n",
       "    <tr>\n",
       "      <th>1</th>\n",
       "      <td>/data/local-files/?d=ml-prodigy-test/data/imag...</td>\n",
       "      <td>4060</td>\n",
       "      <td>Rozpoznanie,Rozpoznanie,Inny box,Rozpoznanie,R...</td>\n",
       "      <td>1</td>\n",
       "      <td>619</td>\n",
       "      <td>2022-07-30 10:07:08.833816+00:00</td>\n",
       "      <td>2022-07-30 10:07:08.833837+00:00</td>\n",
       "      <td>132.547</td>\n",
       "      <td>355727_medicalDocumentatnionFile_1__0_a</td>\n",
       "      <td>12</td>\n",
       "    </tr>\n",
       "    <tr>\n",
       "      <th>2</th>\n",
       "      <td>/data/local-files/?d=ml-prodigy-test/data/imag...</td>\n",
       "      <td>4059</td>\n",
       "      <td>błędna cenzura</td>\n",
       "      <td>1</td>\n",
       "      <td>618</td>\n",
       "      <td>2022-07-30 10:04:55.295523+00:00</td>\n",
       "      <td>2022-07-30 10:04:55.295599+00:00</td>\n",
       "      <td>14.167</td>\n",
       "      <td>355720_medicalDocumentatnionFile_1__0_a</td>\n",
       "      <td>1</td>\n",
       "    </tr>\n",
       "  </tbody>\n",
       "</table>\n",
       "</div>"
      ],
      "text/plain": [
       "                                               image    id  \\\n",
       "0  /data/local-files/?d=ml-prodigy-test/data/imag...  4061   \n",
       "1  /data/local-files/?d=ml-prodigy-test/data/imag...  4060   \n",
       "2  /data/local-files/?d=ml-prodigy-test/data/imag...  4059   \n",
       "\n",
       "                                               label  annotator  \\\n",
       "0  Tytuł dokumentu,Nazwa placówki,Inny box,Inny b...          1   \n",
       "1  Rozpoznanie,Rozpoznanie,Inny box,Rozpoznanie,R...          1   \n",
       "2                                     błędna cenzura          1   \n",
       "\n",
       "   annotation_id                       created_at  \\\n",
       "0            620 2022-07-30 10:08:00.994965+00:00   \n",
       "1            619 2022-07-30 10:07:08.833816+00:00   \n",
       "2            618 2022-07-30 10:04:55.295523+00:00   \n",
       "\n",
       "                        updated_at  lead_time  \\\n",
       "0 2022-07-30 10:08:00.994986+00:00     51.197   \n",
       "1 2022-07-30 10:07:08.833837+00:00    132.547   \n",
       "2 2022-07-30 10:04:55.295599+00:00     14.167   \n",
       "\n",
       "                                            filename  cnt_label  \n",
       "0  355728_medicalCertificateConfirmingTheCompleti...          7  \n",
       "1            355727_medicalDocumentatnionFile_1__0_a         12  \n",
       "2            355720_medicalDocumentatnionFile_1__0_a          1  "
      ]
     },
     "execution_count": 7,
     "metadata": {},
     "output_type": "execute_result"
    }
   ],
   "source": [
    "df = pd.read_json(\"data/project-17.json\")\n",
    "df = df[~df.label.isnull()]\n",
    "df[\"filename\"] = df[\"image\"].apply(lambda x: x.split(\"/\")[-1].split(\".\")[0])\n",
    "df[\"label\"] = df[\"label\"].apply(lambda x: \",\".join([y for i in x for y in i[\"rectanglelabels\"]]))\n",
    "df[\"cnt_label\"] = df[\"label\"].apply(lambda x : len(x.split(\",\")))\n",
    "df[:3]"
   ]
  },
  {
   "cell_type": "code",
   "execution_count": 8,
   "metadata": {},
   "outputs": [
    {
     "name": "stdout",
     "output_type": "stream",
     "text": [
      "Ilość spraw:  516\n"
     ]
    },
    {
     "data": {
      "text/plain": [
       "Inny box                                233\n",
       "błędna cenzura                          194\n",
       "Rozpoznanie                             167\n",
       "Tytuł dokumentu                         121\n",
       "Wyniki badań                             84\n",
       "Nazwa placówki                           48\n",
       "pismo odręczne                           42\n",
       "Epikryza                                 37\n",
       "jakość zdjęcia utrunia etykietowanie     31\n",
       "dokument nie medyczny / nie istotny      30\n",
       "brak etykiet                             27\n",
       "niepełny skan                             6\n",
       "Pacjent                                   2\n",
       "Name: label, dtype: int64"
      ]
     },
     "execution_count": 8,
     "metadata": {},
     "output_type": "execute_result"
    }
   ],
   "source": [
    "print(\"Ilość spraw: \", df.shape[0])\n",
    "df[\"label\"].str.split(\",\").explode().value_counts()"
   ]
  },
  {
   "cell_type": "code",
   "execution_count": 9,
   "metadata": {},
   "outputs": [
    {
     "data": {
      "text/plain": [
       "array(['Tytuł dokumentu', 'Nazwa placówki', 'Inny box', 'Rozpoznanie',\n",
       "       'Wyniki badań', 'błędna cenzura',\n",
       "       'jakość zdjęcia utrunia etykietowanie', 'brak etykiet',\n",
       "       'dokument nie medyczny / nie istotny', 'Epikryza',\n",
       "       'pismo odręczne', 'niepełny skan', 'Pacjent'], dtype=object)"
      ]
     },
     "execution_count": 9,
     "metadata": {},
     "output_type": "execute_result"
    }
   ],
   "source": [
    "labels = df[\"label\"].str.split(\",\").explode().unique()\n",
    "labels"
   ]
  }
 ],
 "metadata": {
  "kernelspec": {
   "display_name": "Python 3.8.10 ('.venv': venv)",
   "language": "python",
   "name": "python3"
  },
  "language_info": {
   "codemirror_mode": {
    "name": "ipython",
    "version": 3
   },
   "file_extension": ".py",
   "mimetype": "text/x-python",
   "name": "python",
   "nbconvert_exporter": "python",
   "pygments_lexer": "ipython3",
   "version": "3.8.10"
  },
  "orig_nbformat": 4,
  "vscode": {
   "interpreter": {
    "hash": "417b439ed4e630174c097017454a1c4e18a29f8f36de21c240c1185158ec2d34"
   }
  }
 },
 "nbformat": 4,
 "nbformat_minor": 2
}
